{
  "cells": [
    {
      "cell_type": "markdown",
      "metadata": {
        "id": "view-in-github",
        "colab_type": "text"
      },
      "source": [
        "<a href=\"https://colab.research.google.com/github/RuzicaSpaseski/RuzicaSpaseski/blob/main/Homework_4.ipynb\" target=\"_parent\"><img src=\"https://colab.research.google.com/assets/colab-badge.svg\" alt=\"Open In Colab\"/></a>"
      ]
    },
    {
      "cell_type": "markdown",
      "metadata": {
        "id": "SqDh5BOz9lcf"
      },
      "source": [
        "# **Numpy Homework**"
      ]
    },
    {
      "cell_type": "markdown",
      "metadata": {
        "id": "i-3Eqhei9wal"
      },
      "source": [
        "Import numpy"
      ]
    },
    {
      "cell_type": "code",
      "execution_count": 58,
      "metadata": {
        "id": "i7rFAbwW9VoA"
      },
      "outputs": [],
      "source": [
        "import numpy as np"
      ]
    },
    {
      "cell_type": "markdown",
      "metadata": {
        "id": "LJy6DwNB9ytD"
      },
      "source": [
        "Create an array of 10 zeros (Креирај низа од 10 нули)"
      ]
    },
    {
      "cell_type": "code",
      "execution_count": null,
      "metadata": {
        "id": "Pu2hg1qy94vV",
        "colab": {
          "base_uri": "https://localhost:8080/"
        },
        "outputId": "cd2c0a3b-2a22-4df3-ec00-50d8e85c31bc"
      },
      "outputs": [
        {
          "output_type": "execute_result",
          "data": {
            "text/plain": [
              "array([0., 0., 0., 0., 0., 0., 0., 0., 0., 0.])"
            ]
          },
          "metadata": {},
          "execution_count": 6
        }
      ],
      "source": [
        "np.zeros(10)\n"
      ]
    },
    {
      "cell_type": "markdown",
      "metadata": {
        "id": "Lf4zNvW-95Ok"
      },
      "source": [
        "Create an array of 10 ones (Креирај низа од 10 единици)"
      ]
    },
    {
      "cell_type": "code",
      "execution_count": null,
      "metadata": {
        "id": "YNe6CVGs9-AT",
        "colab": {
          "base_uri": "https://localhost:8080/"
        },
        "outputId": "a9030540-0f73-4179-d468-990cd78fc910"
      },
      "outputs": [
        {
          "output_type": "execute_result",
          "data": {
            "text/plain": [
              "array([1., 1., 1., 1., 1., 1., 1., 1., 1., 1.])"
            ]
          },
          "metadata": {},
          "execution_count": 7
        }
      ],
      "source": [
        "np.ones(10)"
      ]
    },
    {
      "cell_type": "markdown",
      "metadata": {
        "id": "3rxkaZHD9-cD"
      },
      "source": [
        "Create an array of 10 fives (Креирај низа од 10 петки)"
      ]
    },
    {
      "cell_type": "code",
      "execution_count": null,
      "metadata": {
        "id": "G7dN6wqm-Dza",
        "colab": {
          "base_uri": "https://localhost:8080/"
        },
        "outputId": "f01fa527-8339-419e-c88c-e6dfa2449e7d"
      },
      "outputs": [
        {
          "output_type": "stream",
          "name": "stdout",
          "text": [
            "An array of 10 fives:\n",
            "[5. 5. 5. 5. 5. 5. 5. 5. 5. 5.]\n"
          ]
        }
      ],
      "source": [
        "#nacin 1\n",
        "array = np.ones(10) * 5\n",
        "print(\"An array of 10 fives:\")\n",
        "print(array)"
      ]
    },
    {
      "cell_type": "code",
      "execution_count": 3,
      "metadata": {
        "id": "D8ySKJf--haa",
        "colab": {
          "base_uri": "https://localhost:8080/"
        },
        "outputId": "75f4656c-f356-444f-a88b-598ce18bb4b7"
      },
      "outputs": [
        {
          "output_type": "stream",
          "name": "stdout",
          "text": [
            "An array of 10 fives:\n",
            "[5. 5. 5. 5. 5. 5. 5. 5. 5. 5.]\n"
          ]
        }
      ],
      "source": [
        "#nacin 2\n",
        "array = np.zeros(10) + 5\n",
        "print(\"An array of 10 fives:\")\n",
        "print(array)"
      ]
    },
    {
      "cell_type": "markdown",
      "metadata": {
        "id": "1BkyN-1K-EHC"
      },
      "source": [
        "Create an array of the integers from 10 to 50 (Креирај низа со цели броеви од 10 до 50)"
      ]
    },
    {
      "cell_type": "code",
      "execution_count": null,
      "metadata": {
        "id": "KGxOaVMx-K_v",
        "colab": {
          "base_uri": "https://localhost:8080/"
        },
        "outputId": "988c1606-6640-462e-d0a7-2c2f74085262"
      },
      "outputs": [
        {
          "output_type": "stream",
          "name": "stdout",
          "text": [
            "Array from 10 to 50:\n",
            "[10 11 12 13 14 15 16 17 18 19 20 21 22 23 24 25 26 27 28 29 30 31 32 33\n",
            " 34 35 36 37 38 39 40 41 42 43 44 45 46 47 48 49 50]\n"
          ]
        }
      ],
      "source": [
        "x = np.arange(10,51)\n",
        "print(\"низа со цели броеви од 10 до 50:\")\n",
        "print(x)"
      ]
    },
    {
      "cell_type": "markdown",
      "metadata": {
        "id": "HoOd9li6-LVi"
      },
      "source": [
        "Create an array of all the even integers from 10 to 50 (Креирај низа со цели парни броеви од 10 до 50)"
      ]
    },
    {
      "cell_type": "code",
      "execution_count": null,
      "metadata": {
        "id": "NeNOTk4n-RTM",
        "colab": {
          "base_uri": "https://localhost:8080/"
        },
        "outputId": "8dafc17f-fdd5-4282-c48d-3095bd0f9e40"
      },
      "outputs": [
        {
          "output_type": "stream",
          "name": "stdout",
          "text": [
            "низа со цели парни броеви од 10 до 50:\n",
            "[10 12 14 16 18 20 22 24 26 28 30 32 34 36 38 40 42 44 46 48 50]\n"
          ]
        }
      ],
      "source": [
        "array = np.arange(10, 51, 2)\n",
        "print(\"низа со цели парни броеви од 10 до 50:\")\n",
        "print(array)"
      ]
    },
    {
      "cell_type": "markdown",
      "metadata": {
        "id": "P1eY5vsu-XBa"
      },
      "source": [
        "Create a 3x3 matrix with values ranging from 0 to 8 (Креирај 3x3 матрица со вредности од 0 до 8)"
      ]
    },
    {
      "cell_type": "code",
      "execution_count": null,
      "metadata": {
        "id": "5PI_nRyO-dGi",
        "colab": {
          "base_uri": "https://localhost:8080/"
        },
        "outputId": "698aa423-d5cc-4642-b95c-fdc6469c4594"
      },
      "outputs": [
        {
          "output_type": "stream",
          "name": "stdout",
          "text": [
            "[[0 1 2]\n",
            " [3 4 5]\n",
            " [6 7 8]]\n"
          ]
        }
      ],
      "source": [
        "#nacin 1\n",
        "x = np.arange(0, 9).reshape(3, 3)\n",
        "print(x)"
      ]
    },
    {
      "cell_type": "code",
      "execution_count": null,
      "metadata": {
        "id": "TNqqoPPA-dEC"
      },
      "outputs": [],
      "source": [
        "#nacin 2"
      ]
    },
    {
      "cell_type": "markdown",
      "metadata": {
        "id": "rwx5Txqt-cLy"
      },
      "source": [
        "Create a 3x3 identity matrix (Креирај 3x3 матрица на идентитет)"
      ]
    },
    {
      "cell_type": "code",
      "execution_count": 4,
      "metadata": {
        "id": "LWWdnB70-oh6",
        "colab": {
          "base_uri": "https://localhost:8080/"
        },
        "outputId": "942797c3-886e-4001-d604-d9637526b270"
      },
      "outputs": [
        {
          "output_type": "stream",
          "name": "stdout",
          "text": [
            "3x3 matrix:\n",
            "[[1. 0. 0.]\n",
            " [0. 1. 0.]\n",
            " [0. 0. 1.]]\n"
          ]
        }
      ],
      "source": [
        "matrix = np.eye(3)\n",
        "print('3x3 matrix:')\n",
        "print(matrix)"
      ]
    },
    {
      "cell_type": "markdown",
      "metadata": {
        "id": "7FH47vKb-o4p"
      },
      "source": [
        "Use NumPy to generate a random number between 0 and 1 (Со помош на numpy генерирај рандом број помеѓу 0 и 1)"
      ]
    },
    {
      "cell_type": "code",
      "execution_count": null,
      "metadata": {
        "id": "PZ8BcEY7-zcG",
        "colab": {
          "base_uri": "https://localhost:8080/"
        },
        "outputId": "97808280-b609-4979-b071-c4cc3d5dad83"
      },
      "outputs": [
        {
          "output_type": "stream",
          "name": "stdout",
          "text": [
            "Random number between 0 and 1:\n",
            "[0.45024858]\n"
          ]
        }
      ],
      "source": [
        "random_number = np.random.normal(0, 1, 1)\n",
        "print(\"Random number between 0 and 1:\")\n",
        "print(random_number)"
      ]
    },
    {
      "cell_type": "markdown",
      "metadata": {
        "id": "jzlFgVrk-zv2"
      },
      "source": [
        "Use NumPy to generate an array of 25 random numbers (Со помош на numpy генерирај листа од 25 рандом броеви)"
      ]
    },
    {
      "cell_type": "code",
      "execution_count": 23,
      "metadata": {
        "id": "GjpAPmY2-8nE",
        "colab": {
          "base_uri": "https://localhost:8080/"
        },
        "outputId": "31cd76ac-83c5-4226-e619-3a7fa18daa4d"
      },
      "outputs": [
        {
          "output_type": "stream",
          "name": "stdout",
          "text": [
            "25 random numbers :\n",
            "[ 4 43 42 31 15 48 37 44 41 22 20 48  8 16 35 45  3  9 19 34 31  0 30 20\n",
            " 41]\n"
          ]
        }
      ],
      "source": [
        "rand_num = np.random.randint(0, 50, 25)\n",
        "print(\"25 random numbers :\")\n",
        "print(rand_num)"
      ]
    },
    {
      "cell_type": "markdown",
      "metadata": {
        "id": "qq6fCX97-84c"
      },
      "source": [
        "Create the following matrix: (Креирај ја следнава матрица)"
      ]
    },
    {
      "cell_type": "code",
      "execution_count": null,
      "metadata": {
        "id": "eXi3qI1XBz75",
        "colab": {
          "base_uri": "https://localhost:8080/"
        },
        "outputId": "a4279f56-150a-427e-b212-08ef90c1f748"
      },
      "outputs": [
        {
          "output_type": "stream",
          "name": "stdout",
          "text": [
            "[[50. 50. 50. 50. 50. 50.]\n",
            " [50. 50. 50. 50. 50. 50.]\n",
            " [50. 50. 50. 50. 50. 50.]\n",
            " [50. 50. 50. 50. 50. 50.]\n",
            " [50. 50. 50. 50. 50. 50.]\n",
            " [50. 50. 50. 50. 50. 50.]\n",
            " [50. 50. 50. 50. 50. 50.]\n",
            " [50. 50. 50. 50. 50. 50.]]\n"
          ]
        }
      ],
      "source": [
        "#pisuvajte go kodot vo ovaa kelija, za da ne go prebrisete resenieto vo slednata\n",
        "matrix = np.zeros((8,6)) + 50\n",
        "print(matrix)\n",
        "\n"
      ]
    },
    {
      "cell_type": "code",
      "execution_count": null,
      "metadata": {
        "colab": {
          "base_uri": "https://localhost:8080/"
        },
        "id": "n6U7pdOvBz1Q",
        "outputId": "875ea285-83d7-44ca-b6bd-15f9cdb15006"
      },
      "outputs": [
        {
          "name": "stdout",
          "output_type": "stream",
          "text": [
            "[[50. 50. 50. 50. 50. 50.]\n",
            " [50. 50. 50. 50. 50. 50.]\n",
            " [50. 50. 50. 50. 50. 50.]\n",
            " [50. 50. 50. 50. 50. 50.]\n",
            " [50. 50. 50. 50. 50. 50.]\n",
            " [50. 50. 50. 50. 50. 50.]\n",
            " [50. 50. 50. 50. 50. 50.]\n",
            " [50. 50. 50. 50. 50. 50.]]\n"
          ]
        }
      ],
      "source": []
    },
    {
      "cell_type": "code",
      "execution_count": 29,
      "metadata": {
        "id": "oqCk-Bt__ULn",
        "colab": {
          "base_uri": "https://localhost:8080/"
        },
        "outputId": "7bcfcd07-404b-4544-b1e5-319a309baf9b"
      },
      "outputs": [
        {
          "output_type": "stream",
          "name": "stdout",
          "text": [
            "[[0.01 0.02 0.03 0.04 0.05 0.06 0.07 0.08 0.09 0.1 ]\n",
            " [0.11 0.12 0.13 0.14 0.15 0.16 0.17 0.18 0.19 0.2 ]\n",
            " [0.21 0.22 0.23 0.24 0.25 0.26 0.27 0.28 0.29 0.3 ]\n",
            " [0.31 0.32 0.33 0.34 0.35 0.36 0.37 0.38 0.39 0.4 ]\n",
            " [0.41 0.42 0.43 0.44 0.45 0.46 0.47 0.48 0.49 0.5 ]\n",
            " [0.51 0.52 0.53 0.54 0.55 0.56 0.57 0.58 0.59 0.6 ]\n",
            " [0.61 0.62 0.63 0.64 0.65 0.66 0.67 0.68 0.69 0.7 ]\n",
            " [0.71 0.72 0.73 0.74 0.75 0.76 0.77 0.78 0.79 0.8 ]\n",
            " [0.81 0.82 0.83 0.84 0.85 0.86 0.87 0.88 0.89 0.9 ]\n",
            " [0.91 0.92 0.93 0.94 0.95 0.96 0.97 0.98 0.99 1.  ]]\n"
          ]
        }
      ],
      "source": [
        "#pisuvajte go kodot vo ovaa kelija, za da ne go prebrisete resenieto vo slednata\n",
        "t=np.arange(0.01, 1.01, 0.01).reshape(10,10)\n",
        "print(t)"
      ]
    },
    {
      "cell_type": "code",
      "execution_count": null,
      "metadata": {
        "colab": {
          "base_uri": "https://localhost:8080/"
        },
        "id": "x0K_8yda--UL",
        "outputId": "20c6b886-522d-40b1-e344-b7b80cd8c021"
      },
      "outputs": [
        {
          "name": "stdout",
          "output_type": "stream",
          "text": [
            "[[0.01 0.02 0.03 0.04 0.05 0.06 0.07 0.08 0.09 0.1 ]\n",
            " [0.11 0.12 0.13 0.14 0.15 0.16 0.17 0.18 0.19 0.2 ]\n",
            " [0.21 0.22 0.23 0.24 0.25 0.26 0.27 0.28 0.29 0.3 ]\n",
            " [0.31 0.32 0.33 0.34 0.35 0.36 0.37 0.38 0.39 0.4 ]\n",
            " [0.41 0.42 0.43 0.44 0.45 0.46 0.47 0.48 0.49 0.5 ]\n",
            " [0.51 0.52 0.53 0.54 0.55 0.56 0.57 0.58 0.59 0.6 ]\n",
            " [0.61 0.62 0.63 0.64 0.65 0.66 0.67 0.68 0.69 0.7 ]\n",
            " [0.71 0.72 0.73 0.74 0.75 0.76 0.77 0.78 0.79 0.8 ]\n",
            " [0.81 0.82 0.83 0.84 0.85 0.86 0.87 0.88 0.89 0.9 ]\n",
            " [0.91 0.92 0.93 0.94 0.95 0.96 0.97 0.98 0.99 1.  ]]\n"
          ]
        }
      ],
      "source": []
    },
    {
      "cell_type": "markdown",
      "metadata": {
        "id": "uJPdzWcgA6TW"
      },
      "source": [
        "Fill the missing values (Дополнете ги вредностите кои фалат)"
      ]
    },
    {
      "cell_type": "code",
      "execution_count": null,
      "metadata": {
        "id": "N4QI4VGdA6je",
        "colab": {
          "base_uri": "https://localhost:8080/"
        },
        "outputId": "976c31c4-0ed2-4d9f-af94-e2f3d0cd666c"
      },
      "outputs": [
        {
          "output_type": "stream",
          "name": "stdout",
          "text": [
            "\n",
            "Prv element: [1]\n",
            "Vtor element: [2]\n",
            "Tret element: [3]\n",
            "Tret element od pozadi: [8]\n",
            "Vtor element od pozadi: [9]\n",
            "Prv element od pozadi: [10]\n"
          ]
        }
      ],
      "source": [
        "array = np.array([1, 2, 3, 4, 5, 6, 7, 8, 9, 10])\n",
        "\n",
        "prv_element = array[:1]\n",
        "print(\"\\nPrv element:\", prv_element)\n",
        "vtor_element = array[1:2]\n",
        "print(\"Vtor element:\", vtor_element)\n",
        "tret_element = array[2:3]\n",
        "print(\"Tret element:\", tret_element)\n",
        "tret_element = array[-3:-2]\n",
        "print(\"Tret element od pozadi:\", tret_element)\n",
        "vtor_element = array[-2:-1]\n",
        "print(\"Vtor element od pozadi:\", vtor_element)\n",
        "prv_element = array[-1:]\n",
        "print(\"Prv element od pozadi:\", prv_element)"
      ]
    },
    {
      "cell_type": "code",
      "execution_count": 64,
      "metadata": {
        "id": "ymAWVqcbBW57",
        "colab": {
          "base_uri": "https://localhost:8080/"
        },
        "outputId": "b398788b-4ebd-49dd-d473-ab0d857288dc"
      },
      "outputs": [
        {
          "output_type": "stream",
          "name": "stdout",
          "text": [
            "\n",
            "Red 1,Kolona 1: 1\n",
            "Red 1,Kolona 2: 2\n",
            "Red 2,Kolona 1: 4\n",
            "Red 2,Kolona 3: 6\n",
            "\n",
            "Red 1,Kolona 1: 1\n",
            "Red 1,Kolona 2: 2\n",
            "Red 2,Kolona 1: 4\n",
            "Red 2,Kolona 3: 6\n"
          ]
        }
      ],
      "source": [
        "array = np.array([[1, 2, 3], [4, 5, 6], [7, 8, 9], [10, 11, 12]])\n",
        "\n",
        "red1kolona1 = array[0][0]\n",
        "print(\"\\nRed 1,Kolona 1:\", red1kolona1)\n",
        "red1kolona2 =  array[0][1]\n",
        "print(\"Red 1,Kolona 2:\", red1kolona2)\n",
        "red2kolona1 =  array[1][0]\n",
        "print(\"Red 2,Kolona 1:\", red2kolona1)\n",
        "red2kolona3 =  array[1][-1]\n",
        "print(\"Red 2,Kolona 3:\", red2kolona3)\n",
        "#istite baranja no so negativni indeksi\n",
        "red1kolona1 =  (array[-4, -3])\n",
        "print(\"\\nRed 1,Kolona 1:\", red1kolona1)\n",
        "red1kolona2 =  (array[-4, -2])\n",
        "print(\"Red 1,Kolona 2:\", red1kolona2)\n",
        "red2kolona1 =  (array[-3, -3])\n",
        "print(\"Red 2,Kolona 1:\", red2kolona1)\n",
        "red2kolona3 =  array[-3][-1]\n",
        "print(\"Red 2,Kolona 3:\", red2kolona3)"
      ]
    },
    {
      "cell_type": "code",
      "execution_count": 30,
      "metadata": {
        "id": "acDiWA61CQTl",
        "colab": {
          "base_uri": "https://localhost:8080/"
        },
        "outputId": "211a1d86-9206-49c6-a77e-97f83b2b7685"
      },
      "outputs": [
        {
          "output_type": "stream",
          "name": "stdout",
          "text": [
            "[ 0  1  2  3  4  5  6  7  8  9 10 11 12 13 14]\n",
            "Prvite 5 elementi se: [0 1 2 3 4]\n",
            "Poslednite 4 elementi se: [11 12 13 14]\n",
            "Prviot element e: 0\n",
            "Posledniot element e: 14\n",
            "Site elementi posle 3tiot se: [ 3  4  5  6  7  8  9 10 11 12 13 14]\n",
            "Subarray so elementite povegju 2 i 6 (so 6tiot): [2 3 4 5 6]\n",
            "Subarray so elementite povegju 2 i 6 (bez 6tiot): [2 3 4 5]\n",
            "Sekoj 2 element: [ 0  2  4  6  8 10 12 14]\n",
            "Sekoj 2 element pocnuvajki od 1: [ 1  3  5  7  9 11 13]\n",
            "Sekoj 3 element: [ 0  3  6  9 12]\n",
            "Elementite po obraten redosled: [14 13 12 11 10  9  8  7  6  5  4  3  2  1  0]\n",
            "Sekoj 2 element posle indeks 5 po obraten redosled: [5 3 1]\n"
          ]
        }
      ],
      "source": [
        "x = np.arange(15)\n",
        "print(x)\n",
        "\n",
        "print('Prvite 5 elementi se:', x[0:5])\n",
        "print('Poslednite 4 elementi se:', x[-4:])\n",
        "print('Prviot element e:', x[0])\n",
        "print(\"Posledniot element e:\", x[-1])\n",
        "print('Site elementi posle 3tiot se:', x[3:])\n",
        "print('Subarray so elementite povegju 2 i 6 (so 6tiot):', x[2:7])\n",
        "print('Subarray so elementite povegju 2 i 6 (bez 6tiot):', x[2:6])\n",
        "print('Sekoj 2 element:', x[::2])\n",
        "print('Sekoj 2 element pocnuvajki od 1:', x[1::2])\n",
        "print('Sekoj 3 element:', x[::3])\n",
        "print('Elementite po obraten redosled:',  x[::-1])\n",
        "print('Sekoj 2 element posle indeks 5 po obraten redosled:', x[5::-2])"
      ]
    },
    {
      "cell_type": "markdown",
      "metadata": {
        "id": "vD4HU2s3_Pin"
      },
      "source": [
        "Now you will be given a few matrices, and be asked to replicate the resulting matrix outputs: (Во следните неколку келии, ќе имате резултати од матрици, ќе треба да го напишете кодот за да ја добиете таа матрица)\n",
        "Секаде ќе бидат оставени по 2 келии, пишувајте во првата за да не го пребришете резултатот од втората"
      ]
    },
    {
      "cell_type": "markdown",
      "metadata": {
        "id": "fDK_N36e_3gI"
      },
      "source": [
        "1"
      ]
    },
    {
      "cell_type": "code",
      "execution_count": 33,
      "metadata": {
        "id": "38T9TQTL--rW",
        "colab": {
          "base_uri": "https://localhost:8080/"
        },
        "outputId": "5001f0e1-ba39-4799-8419-4b3ce68e0fe7"
      },
      "outputs": [
        {
          "output_type": "stream",
          "name": "stdout",
          "text": [
            "[[ 1  2  3  4  5]\n",
            " [ 6  7  8  9 10]\n",
            " [11 12 13 14 15]\n",
            " [16 17 18 19 20]\n",
            " [21 22 23 24 25]]\n"
          ]
        }
      ],
      "source": [
        "x = np.arange(1,26).reshape(5, 5)\n",
        "print(x)"
      ]
    },
    {
      "cell_type": "code",
      "execution_count": null,
      "metadata": {
        "colab": {
          "base_uri": "https://localhost:8080/"
        },
        "id": "VgQmbs1b_uqZ",
        "outputId": "a4c65178-29d9-417c-98b8-fce84020cab5"
      },
      "outputs": [
        {
          "name": "stdout",
          "output_type": "stream",
          "text": [
            "[[ 1  2  3  4  5]\n",
            " [ 6  7  8  9 10]\n",
            " [11 12 13 14 15]\n",
            " [16 17 18 19 20]\n",
            " [21 22 23 24 25]]\n"
          ]
        }
      ],
      "source": []
    },
    {
      "cell_type": "markdown",
      "metadata": {
        "id": "9YyZICEz_-_-"
      },
      "source": [
        "Преку првата матрица пресметајте ги следните барања"
      ]
    },
    {
      "cell_type": "markdown",
      "metadata": {
        "id": "LEayc8vf_4Zg"
      },
      "source": [
        "1.1"
      ]
    },
    {
      "cell_type": "code",
      "execution_count": 38,
      "metadata": {
        "id": "ufiDoA1l_vJy",
        "colab": {
          "base_uri": "https://localhost:8080/"
        },
        "outputId": "5153212a-3c24-4c81-d70f-badf8eaae1a5"
      },
      "outputs": [
        {
          "output_type": "stream",
          "name": "stdout",
          "text": [
            "[[12 13 14 15]\n",
            " [17 18 19 20]\n",
            " [22 23 24 25]]\n"
          ]
        }
      ],
      "source": [
        "print( x[-3:, 1:])"
      ]
    },
    {
      "cell_type": "code",
      "execution_count": null,
      "metadata": {
        "colab": {
          "base_uri": "https://localhost:8080/"
        },
        "id": "n4O9nFsu_5SA",
        "outputId": "157aa486-ebbb-421c-a511-9ce513de2339"
      },
      "outputs": [
        {
          "name": "stdout",
          "output_type": "stream",
          "text": [
            "[[12 13 14 15]\n",
            " [17 18 19 20]\n",
            " [22 23 24 25]]\n"
          ]
        }
      ],
      "source": []
    },
    {
      "cell_type": "markdown",
      "metadata": {
        "id": "N5k05ujtAF6N"
      },
      "source": [
        "1.2"
      ]
    },
    {
      "cell_type": "code",
      "execution_count": null,
      "metadata": {
        "id": "Ahv53DGF_9OA",
        "colab": {
          "base_uri": "https://localhost:8080/"
        },
        "outputId": "5985f488-fb82-46a0-be0c-d54b1ed13ae9"
      },
      "outputs": [
        {
          "output_type": "execute_result",
          "data": {
            "text/plain": [
              "20"
            ]
          },
          "metadata": {},
          "execution_count": 88
        }
      ],
      "source": [
        "x[3, -1]"
      ]
    },
    {
      "cell_type": "code",
      "execution_count": null,
      "metadata": {
        "colab": {
          "base_uri": "https://localhost:8080/"
        },
        "id": "tBFuBTu-AG5u",
        "outputId": "0234e8cb-22ee-4db6-e25c-7ac1203ecfde"
      },
      "outputs": [
        {
          "data": {
            "text/plain": [
              "20"
            ]
          },
          "execution_count": 10,
          "metadata": {},
          "output_type": "execute_result"
        }
      ],
      "source": []
    },
    {
      "cell_type": "markdown",
      "metadata": {
        "id": "bHWbqE_bAJVV"
      },
      "source": [
        "1.3"
      ]
    },
    {
      "cell_type": "code",
      "execution_count": 39,
      "metadata": {
        "id": "aOnD4bTnAIBv",
        "colab": {
          "base_uri": "https://localhost:8080/"
        },
        "outputId": "8a6d4011-b757-41d7-aeff-0f50a5e52252"
      },
      "outputs": [
        {
          "output_type": "stream",
          "name": "stdout",
          "text": [
            "[[ 2]\n",
            " [ 7]\n",
            " [12]]\n"
          ]
        }
      ],
      "source": [
        "print(x[0:3, 1:2])"
      ]
    },
    {
      "cell_type": "code",
      "execution_count": null,
      "metadata": {
        "colab": {
          "base_uri": "https://localhost:8080/"
        },
        "id": "TSsVrAaCAKgQ",
        "outputId": "9b6d95a9-8565-4cc6-db1a-b6c1568b28b9"
      },
      "outputs": [
        {
          "name": "stdout",
          "output_type": "stream",
          "text": [
            "[[ 2]\n",
            " [ 7]\n",
            " [12]]\n"
          ]
        }
      ],
      "source": []
    },
    {
      "cell_type": "code",
      "source": [],
      "metadata": {
        "id": "JTOOg0oLKfZ3"
      },
      "execution_count": null,
      "outputs": []
    },
    {
      "cell_type": "markdown",
      "metadata": {
        "id": "E9_lL6a6ANrt"
      },
      "source": [
        "1.4"
      ]
    },
    {
      "cell_type": "code",
      "execution_count": 46,
      "metadata": {
        "id": "LtLR2UpeAMHQ",
        "colab": {
          "base_uri": "https://localhost:8080/"
        },
        "outputId": "16f01332-02be-4f59-c620-86f3237a2f39"
      },
      "outputs": [
        {
          "output_type": "stream",
          "name": "stdout",
          "text": [
            "[[21 22 23 24 25]]\n"
          ]
        }
      ],
      "source": [
        "print(x[-1:])"
      ]
    },
    {
      "cell_type": "code",
      "execution_count": null,
      "metadata": {
        "colab": {
          "base_uri": "https://localhost:8080/"
        },
        "id": "Cx0a3wEQAO5U",
        "outputId": "34b4f4ab-fa62-4d90-82e7-dd2c1af5b892"
      },
      "outputs": [
        {
          "name": "stdout",
          "output_type": "stream",
          "text": [
            "[21 22 23 24 25]\n"
          ]
        }
      ],
      "source": []
    },
    {
      "cell_type": "markdown",
      "metadata": {
        "id": "NDO7PDLcAWPb"
      },
      "source": [
        "1.5"
      ]
    },
    {
      "cell_type": "code",
      "execution_count": 49,
      "metadata": {
        "id": "VrTvTblGAQ3D",
        "colab": {
          "base_uri": "https://localhost:8080/"
        },
        "outputId": "3e4e9725-62f1-435e-d123-4d2e13a4fe07"
      },
      "outputs": [
        {
          "output_type": "stream",
          "name": "stdout",
          "text": [
            "[[16 17 18 19 20]\n",
            " [21 22 23 24 25]]\n"
          ]
        }
      ],
      "source": [
        "print(x[-2:])"
      ]
    },
    {
      "cell_type": "code",
      "execution_count": null,
      "metadata": {
        "colab": {
          "base_uri": "https://localhost:8080/"
        },
        "id": "ageFsyVwAXZb",
        "outputId": "cf8740b8-3a00-4ad3-daf7-6a17bcd2e605"
      },
      "outputs": [
        {
          "name": "stdout",
          "output_type": "stream",
          "text": [
            "[[16 17 18 19 20]\n",
            " [21 22 23 24 25]]\n"
          ]
        }
      ],
      "source": []
    },
    {
      "cell_type": "markdown",
      "metadata": {
        "id": "6CUUpPTlAb8i"
      },
      "source": [
        "1.6 -> sum of all values (сума на сите елементи)"
      ]
    },
    {
      "cell_type": "code",
      "execution_count": 54,
      "metadata": {
        "id": "arFr6bB4AaWr",
        "colab": {
          "base_uri": "https://localhost:8080/"
        },
        "outputId": "a7c44d10-6aad-4115-aa63-05070dca34ec"
      },
      "outputs": [
        {
          "output_type": "stream",
          "name": "stdout",
          "text": [
            "\n",
            "Suma na site elementi: 325\n"
          ]
        }
      ],
      "source": [
        "suma = x.sum()\n",
        "print('\\nSuma na site elementi:', suma)\n"
      ]
    },
    {
      "cell_type": "markdown",
      "metadata": {
        "id": "DUXjjoMjAgxJ"
      },
      "source": [
        "1.7 -> sum of all the columns (сума на сите колони)"
      ]
    },
    {
      "cell_type": "code",
      "execution_count": 55,
      "metadata": {
        "id": "QrJUjJjpArE4",
        "colab": {
          "base_uri": "https://localhost:8080/"
        },
        "outputId": "d4e86c24-2e68-4d30-be5b-bcccfbc9e901"
      },
      "outputs": [
        {
          "output_type": "stream",
          "name": "stdout",
          "text": [
            "\n",
            "Suma na site koloni: [55 60 65 70 75]\n"
          ]
        }
      ],
      "source": [
        "suma_koloni = np.sum(x, axis = 0)\n",
        "print('\\nSuma na site koloni:', suma_koloni)"
      ]
    },
    {
      "cell_type": "markdown",
      "metadata": {
        "id": "CwD2xchtDmN1"
      },
      "source": [
        "2"
      ]
    },
    {
      "cell_type": "code",
      "execution_count": 57,
      "metadata": {
        "id": "JBJ8kQgWDmzz",
        "colab": {
          "base_uri": "https://localhost:8080/"
        },
        "outputId": "5cee793a-b1a3-40bd-8890-f901d0b011b4"
      },
      "outputs": [
        {
          "output_type": "stream",
          "name": "stdout",
          "text": [
            "[[ 5  7  9 11 13 15 17]\n",
            " [19 21 23 25 27 29 31]\n",
            " [33 35 37 39 41 43 45]\n",
            " [47 49 51 53 55 57 59]]\n"
          ]
        }
      ],
      "source": [
        "f=np.arange(5,60,2).reshape(4,7)\n",
        "print(f)"
      ]
    },
    {
      "cell_type": "code",
      "execution_count": null,
      "metadata": {
        "colab": {
          "base_uri": "https://localhost:8080/"
        },
        "id": "aQyN2A6WDnEH",
        "outputId": "3872bbb0-578a-480d-bcee-0580b60daf1b"
      },
      "outputs": [
        {
          "name": "stdout",
          "output_type": "stream",
          "text": [
            "[[ 5  7  9 11 13 15 17]\n",
            " [19 21 23 25 27 29 31]\n",
            " [33 35 37 39 41 43 45]\n",
            " [47 49 51 53 55 57 59]]\n"
          ]
        }
      ],
      "source": []
    },
    {
      "cell_type": "markdown",
      "metadata": {
        "id": "nqN8D5frEdgB"
      },
      "source": [
        "Преку првата матрица пресметајте ги следните барања"
      ]
    },
    {
      "cell_type": "markdown",
      "metadata": {
        "id": "gEFjC0exEBqz"
      },
      "source": [
        "2.1"
      ]
    },
    {
      "cell_type": "code",
      "execution_count": 69,
      "metadata": {
        "id": "yYGSGvwADvZj",
        "colab": {
          "base_uri": "https://localhost:8080/"
        },
        "outputId": "bd569013-619c-4a29-c6be-1ab0a2f196ed"
      },
      "outputs": [
        {
          "output_type": "stream",
          "name": "stdout",
          "text": [
            "posledni 2 reda, bez posledni 2 indexi : \n",
            " [[33 35 37 39 41]\n",
            " [47 49 51 53 55]]\n"
          ]
        }
      ],
      "source": [
        "print(\"posledni 2 reda, bez posledni 2 indexi : \\n\", f[-2: , :-2])"
      ]
    },
    {
      "cell_type": "code",
      "execution_count": null,
      "metadata": {
        "colab": {
          "base_uri": "https://localhost:8080/"
        },
        "id": "dDZHpynkECsz",
        "outputId": "80f97b88-e98e-4014-9289-62270348be25"
      },
      "outputs": [
        {
          "name": "stdout",
          "output_type": "stream",
          "text": [
            "[[33 35 37 39 41]\n",
            " [47 49 51 53 55]]\n"
          ]
        }
      ],
      "source": []
    },
    {
      "cell_type": "markdown",
      "metadata": {
        "id": "qiKMsYU_EC_s"
      },
      "source": [
        "2.2"
      ]
    },
    {
      "cell_type": "code",
      "execution_count": 71,
      "metadata": {
        "id": "cI4pgdMbEDtj",
        "colab": {
          "base_uri": "https://localhost:8080/"
        },
        "outputId": "03788251-46b3-4108-c3ca-095960597a8a"
      },
      "outputs": [
        {
          "output_type": "stream",
          "name": "stdout",
          "text": [
            "Prvi dva redovi i posledni dva indexi : \n",
            " [[15 17]\n",
            " [29 31]]\n"
          ]
        }
      ],
      "source": [
        "print(\"Prvi dva redovi i posledni dva indexi : \\n\", f[:-2 , -2:])"
      ]
    },
    {
      "cell_type": "code",
      "execution_count": null,
      "metadata": {
        "colab": {
          "base_uri": "https://localhost:8080/"
        },
        "id": "9m56x4bCED89",
        "outputId": "dd58822f-0df8-4e37-a89c-9b30cace7e4d"
      },
      "outputs": [
        {
          "name": "stdout",
          "output_type": "stream",
          "text": [
            "[[15 17]\n",
            " [29 31]]\n"
          ]
        }
      ],
      "source": []
    },
    {
      "cell_type": "markdown",
      "metadata": {
        "id": "rkwgpnvTEFTD"
      },
      "source": [
        "2.3"
      ]
    },
    {
      "cell_type": "code",
      "execution_count": 73,
      "metadata": {
        "id": "MVXaj4q4EGLr",
        "colab": {
          "base_uri": "https://localhost:8080/"
        },
        "outputId": "a7b82efc-d848-4ec4-bcc2-4bddecca53b9"
      },
      "outputs": [
        {
          "output_type": "execute_result",
          "data": {
            "text/plain": [
              "array([19, 21, 23, 25, 27, 29, 31])"
            ]
          },
          "metadata": {},
          "execution_count": 73
        }
      ],
      "source": [
        "f[1][:]"
      ]
    },
    {
      "cell_type": "code",
      "execution_count": null,
      "metadata": {
        "colab": {
          "base_uri": "https://localhost:8080/"
        },
        "id": "AOUaJwxQEGoD",
        "outputId": "d09c7593-dbce-440b-a3ca-cf41afceee05"
      },
      "outputs": [
        {
          "name": "stdout",
          "output_type": "stream",
          "text": [
            "[19 21 23 25 27 29 31]\n"
          ]
        }
      ],
      "source": []
    },
    {
      "cell_type": "markdown",
      "metadata": {
        "id": "tJpMMlTeEKyS"
      },
      "source": [
        "2.4 -> sum of all the rows (сума на сите редици)"
      ]
    },
    {
      "cell_type": "code",
      "execution_count": 75,
      "metadata": {
        "id": "j3QcxOhgEPuT",
        "colab": {
          "base_uri": "https://localhost:8080/"
        },
        "outputId": "0efc0baf-a76b-4772-ce4f-bba168053557"
      },
      "outputs": [
        {
          "output_type": "stream",
          "name": "stdout",
          "text": [
            "\n",
            "Suma na site redovi: [ 15  40  65  90 115]\n"
          ]
        }
      ],
      "source": [
        "suma_koloni = np.sum(x, axis = 1)\n",
        "print('\\nSuma na site redovi:', suma_koloni)"
      ]
    },
    {
      "cell_type": "markdown",
      "metadata": {
        "id": "H3W4rkoXE79_"
      },
      "source": [
        "2.5"
      ]
    },
    {
      "cell_type": "code",
      "execution_count": 76,
      "metadata": {
        "id": "x41zDeo8E9Hn",
        "colab": {
          "base_uri": "https://localhost:8080/"
        },
        "outputId": "e3f88575-3c75-4bae-97c4-746bb3383c73"
      },
      "outputs": [
        {
          "output_type": "execute_result",
          "data": {
            "text/plain": [
              "59"
            ]
          },
          "metadata": {},
          "execution_count": 76
        }
      ],
      "source": [
        "f[3, -1]"
      ]
    },
    {
      "cell_type": "code",
      "execution_count": null,
      "metadata": {
        "colab": {
          "base_uri": "https://localhost:8080/"
        },
        "id": "C9qOj3-HE9ag",
        "outputId": "d3413e41-2911-4097-e5b0-c55f6bf6ff18"
      },
      "outputs": [
        {
          "data": {
            "text/plain": [
              "59"
            ]
          },
          "execution_count": 25,
          "metadata": {},
          "output_type": "execute_result"
        }
      ],
      "source": []
    },
    {
      "cell_type": "markdown",
      "metadata": {
        "id": "LHBJQ9UwFNBp"
      },
      "source": [
        "1. Креирајте низа со 15 елементи.\n",
        "2. Извадете ги првите 7 елементи.\n",
        "3. Извадете ги последните 7 елементи.\n",
        "4. Извадете ги елементите кои се наоѓаат помеѓу индексите 11 и 13 (со вклучен елементот на индекс 13)\n",
        "5. Креирајте подниза која како елементи ќе го има секој 3 елемент од првичната низа.\n",
        "6. Креирајте подниза која како елементи ќе го има секој 3 елемент од првичната нзиа, но по обратен редослед.\n",
        "7. Креирајте низа со истите 15 елементи, но по обратен редослед.\n",
        "8. Извадете ги елементите после елементот со индекс 7, но по обратен редослед.\n",
        "9. Извадете ги елементите пред елементот со индекс 4, но по обратен редослед.\n",
        "10. Извадете го секој 3 елемент после индекс 9, но по обратен редослед.\n"
      ]
    },
    {
      "cell_type": "code",
      "execution_count": 78,
      "metadata": {
        "id": "czxkjAbBGBvz",
        "colab": {
          "base_uri": "https://localhost:8080/"
        },
        "outputId": "69f6cb41-71e8-4933-8f1c-2b912a343595"
      },
      "outputs": [
        {
          "output_type": "stream",
          "name": "stdout",
          "text": [
            "[ 0  1  2  3  4  5  6  7  8  9 10 11 12 13 14 15]\n"
          ]
        }
      ],
      "source": [
        "niza = np.arange(16)\n",
        "print(niza)"
      ]
    },
    {
      "cell_type": "code",
      "execution_count": 81,
      "metadata": {
        "id": "2d68sbDHGDMs",
        "colab": {
          "base_uri": "https://localhost:8080/"
        },
        "outputId": "15389a86-67d9-4be2-9dde-b19cf03a2ca1"
      },
      "outputs": [
        {
          "output_type": "stream",
          "name": "stdout",
          "text": [
            "Prvi 10 elementi : \n",
            " [0 1 2 3 4 5 6]\n"
          ]
        }
      ],
      "source": [
        "print(\"Prvi 7 elementi : \\n\", niza[:7])"
      ]
    },
    {
      "cell_type": "code",
      "execution_count": 82,
      "metadata": {
        "id": "E90xToyLGDqo",
        "colab": {
          "base_uri": "https://localhost:8080/"
        },
        "outputId": "975212d5-cc9c-4945-de66-4e9edb661237"
      },
      "outputs": [
        {
          "output_type": "stream",
          "name": "stdout",
          "text": [
            "Posledni 7 elementi: \n",
            " [ 9 10 11 12 13 14 15]\n"
          ]
        }
      ],
      "source": [
        "print(\"Posledni 7 elementi: \\n\", niza[-7:])"
      ]
    },
    {
      "cell_type": "code",
      "execution_count": 86,
      "metadata": {
        "id": "AXp8mjtNGEH8",
        "colab": {
          "base_uri": "https://localhost:8080/"
        },
        "outputId": "e39b79c8-f5fb-4d98-d681-fe3d41be5572"
      },
      "outputs": [
        {
          "output_type": "stream",
          "name": "stdout",
          "text": [
            "elementi megu indexi 11 i 13: \n",
            " [12]\n"
          ]
        }
      ],
      "source": [
        "#4Извадете ги елементите кои се наоѓаат помеѓу индексите 11 и 13 (со вклучен елементот на индекс 13)\n",
        "print(\"elementi megu indexi 11 i 13: \\n\", niza[-4:-3])"
      ]
    },
    {
      "cell_type": "code",
      "execution_count": 89,
      "metadata": {
        "id": "vvnkve32GFbH",
        "colab": {
          "base_uri": "https://localhost:8080/"
        },
        "outputId": "da431a93-84f8-4407-88e8-bd7ecddac289"
      },
      "outputs": [
        {
          "output_type": "stream",
          "name": "stdout",
          "text": [
            "[ 0  3  6  9 12 15]\n"
          ]
        }
      ],
      "source": [
        "#5Креирајте подниза која како елементи ќе го има секој 3 елемент од првичната низа.\n",
        "a=niza[0::3]\n",
        "print(a)"
      ]
    },
    {
      "cell_type": "code",
      "execution_count": 99,
      "metadata": {
        "id": "cD7OTxhWGF3j",
        "colab": {
          "base_uri": "https://localhost:8080/"
        },
        "outputId": "d455750f-d22d-41a1-9fc5-ec1336d2632f"
      },
      "outputs": [
        {
          "output_type": "stream",
          "name": "stdout",
          "text": [
            "Sekoj 3 element po obraten redosled: [15 12  9  6  3  0]\n"
          ]
        }
      ],
      "source": [
        "#6Креирајте подниза која како елементи ќе го има секој 3 елемент од првичната нзиа, но по обратен редослед\n",
        "print('Sekoj 3 element po obraten redosled:', niza[::-3])\n"
      ]
    },
    {
      "cell_type": "code",
      "execution_count": 100,
      "metadata": {
        "id": "mw7L_lGXGGR_",
        "colab": {
          "base_uri": "https://localhost:8080/"
        },
        "outputId": "5b74d31c-0287-42de-e619-def4a78df86c"
      },
      "outputs": [
        {
          "output_type": "stream",
          "name": "stdout",
          "text": [
            "[15 14 13 12 11 10  9  8  7  6  5  4  3  2  1  0]\n"
          ]
        }
      ],
      "source": [
        "#7Креирајте низа со истите 15 елементи, но по обратен редослед\n",
        "niza1=niza[::-1]\n",
        "print(niza1)"
      ]
    },
    {
      "cell_type": "code",
      "execution_count": 102,
      "metadata": {
        "id": "OJ8O7pUhGGp_",
        "colab": {
          "base_uri": "https://localhost:8080/"
        },
        "outputId": "7ff20d80-81c4-431b-ab89-afcab30b4d65"
      },
      "outputs": [
        {
          "output_type": "stream",
          "name": "stdout",
          "text": [
            "elementi posle index 7 po obraten redosled: [ 7  8  9 10 11 12 13 14 15]\n"
          ]
        }
      ],
      "source": [
        "#8 Извадете ги елементите после елементот со индекс 7, но по обратен редослед.\n",
        "print('elementi posle index 7 po obraten redosled:', niza1[8::-1])\n"
      ]
    },
    {
      "cell_type": "code",
      "execution_count": 106,
      "metadata": {
        "id": "UTDKQcmgGHBF",
        "colab": {
          "base_uri": "https://localhost:8080/"
        },
        "outputId": "4552ee55-b637-4fd4-ebe8-727566032384"
      },
      "outputs": [
        {
          "output_type": "stream",
          "name": "stdout",
          "text": [
            "elementi pred index 4 po obraten redosled: [12 13 14 15]\n"
          ]
        }
      ],
      "source": [
        "#9 Извадете ги елементите пред елементот со индекс 4, но по обратен редослед.\n",
        "print('elementi pred index 4 po obraten redosled:', niza1[3::-1])\n"
      ]
    },
    {
      "cell_type": "code",
      "execution_count": 107,
      "metadata": {
        "id": "eyXpccgyGHme",
        "colab": {
          "base_uri": "https://localhost:8080/"
        },
        "outputId": "518ba997-b945-47ce-ef75-23b76152cbc5"
      },
      "outputs": [
        {
          "output_type": "stream",
          "name": "stdout",
          "text": [
            "sekoj tret element posle index 9 po obraten redosled: [ 6  9 12 15]\n"
          ]
        }
      ],
      "source": [
        "#10 Извадете го секој 3 елемент после индекс 9, но по обратен редослед.\n",
        "print('sekoj tret element posle index 9 po obraten redosled:', niza1[9::-3])\n"
      ]
    },
    {
      "cell_type": "markdown",
      "metadata": {
        "id": "lIPPzRwaGTU6"
      },
      "source": [
        "Креирај нова матрица чии елементи\n",
        "ќе произлезат од други 2 матрици. Во прилог логиката која треба да ја искористите: (Ова е всушност множење на матрици)"
      ]
    },
    {
      "cell_type": "code",
      "execution_count": null,
      "metadata": {
        "colab": {
          "base_uri": "https://localhost:8080/"
        },
        "id": "84GVfgPRGhvs",
        "outputId": "321e92ed-0e35-4061-b8f8-5dfcde0328da"
      },
      "outputs": [
        {
          "name": "stdout",
          "output_type": "stream",
          "text": [
            "A\n",
            " [[2 3]\n",
            " [3 4]]\n",
            "B\n",
            " [[1 1]\n",
            " [1 1]]\n",
            "C\n",
            " [[5 5]\n",
            " [7 7]]\n"
          ]
        }
      ],
      "source": [
        "#c[0][0] = a[0][0]*b[0][0] + a[0][1]*b[1][0]\n",
        "#c[0][1] = a[0][0]*b[0][1] + a[0][1]*b[1][1]\n",
        "#c[1][0] = a[1][0]*b[0][0] + a[1][1]*b[1][0]\n",
        "#c[1][1] = a[1][0]*b[0][1] + a[1][1]*b[1][1]"
      ]
    },
    {
      "cell_type": "code",
      "execution_count": 117,
      "metadata": {
        "id": "-3OMY0s2GIFp",
        "colab": {
          "base_uri": "https://localhost:8080/"
        },
        "outputId": "e36b2c18-bb79-48a0-f756-4426cb8e6147"
      },
      "outputs": [
        {
          "output_type": "stream",
          "name": "stdout",
          "text": [
            "X\n",
            " [[1 2 3 4]\n",
            " [5 6 7 8]]\n",
            "Y\n",
            " [[10 20 30 40]\n",
            " [50 60 70 80]]\n",
            "\n",
            "Mnozenje\n",
            "\n",
            "[[ 10  40  90 160]\n",
            " [250 360 490 640]]\n"
          ]
        }
      ],
      "source": [
        "#resenieto napisete go ovde\n",
        "x = np.array([[1, 2, 3, 4], [5, 6, 7, 8]])\n",
        "print('X\\n', x)\n",
        "y = np.array([[10, 20, 30, 40], [50, 60, 70, 80]])\n",
        "print('Y\\n', y)\n",
        "print()\n",
        "print('Mnozenje\\n')\n",
        "\n",
        "print(x*y)\n",
        "\n",
        "\n"
      ]
    }
  ],
  "metadata": {
    "colab": {
      "provenance": [],
      "include_colab_link": true
    },
    "kernelspec": {
      "display_name": "Python 3 (ipykernel)",
      "language": "python",
      "name": "python3"
    },
    "language_info": {
      "codemirror_mode": {
        "name": "ipython",
        "version": 3
      },
      "file_extension": ".py",
      "mimetype": "text/x-python",
      "name": "python",
      "nbconvert_exporter": "python",
      "pygments_lexer": "ipython3",
      "version": "3.8.10"
    }
  },
  "nbformat": 4,
  "nbformat_minor": 0
}